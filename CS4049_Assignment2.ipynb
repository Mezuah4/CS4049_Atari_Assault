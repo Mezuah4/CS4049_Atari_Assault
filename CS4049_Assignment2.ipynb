{
  "nbformat": 4,
  "nbformat_minor": 0,
  "metadata": {
    "colab": {
      "name": "CS4049_Assignment2.ipynb",
      "provenance": [],
      "collapsed_sections": []
    },
    "kernelspec": {
      "name": "python3",
      "display_name": "Python 3"
    },
    "language_info": {
      "name": "python"
    },
    "accelerator": "GPU"
  },
  "cells": [
    {
      "cell_type": "markdown",
      "metadata": {
        "id": "9DMsZuhhASEG"
      },
      "source": [
        "# CS4049 Assignment 2 - Atari Deep Learning"
      ]
    },
    {
      "cell_type": "code",
      "metadata": {
        "colab": {
          "base_uri": "https://localhost:8080/"
        },
        "id": "PVPU02ayLEG4",
        "outputId": "eee6d2b3-c569-4c87-f16b-5fe627e6187f"
      },
      "source": [
        "!pip install gym==0.17.2\n",
        "!pip install atari-py==0.2.6"
      ],
      "execution_count": null,
      "outputs": [
        {
          "output_type": "stream",
          "name": "stdout",
          "text": [
            "Collecting gym==0.17.2\n",
            "  Downloading gym-0.17.2.tar.gz (1.6 MB)\n",
            "\u001b[?25l\r\u001b[K     |▏                               | 10 kB 18.6 MB/s eta 0:00:01\r\u001b[K     |▍                               | 20 kB 25.5 MB/s eta 0:00:01\r\u001b[K     |▋                               | 30 kB 30.0 MB/s eta 0:00:01\r\u001b[K     |▉                               | 40 kB 31.6 MB/s eta 0:00:01\r\u001b[K     |█                               | 51 kB 15.4 MB/s eta 0:00:01\r\u001b[K     |█▎                              | 61 kB 12.6 MB/s eta 0:00:01\r\u001b[K     |█▌                              | 71 kB 12.7 MB/s eta 0:00:01\r\u001b[K     |█▊                              | 81 kB 13.6 MB/s eta 0:00:01\r\u001b[K     |█▉                              | 92 kB 13.9 MB/s eta 0:00:01\r\u001b[K     |██                              | 102 kB 11.2 MB/s eta 0:00:01\r\u001b[K     |██▎                             | 112 kB 11.2 MB/s eta 0:00:01\r\u001b[K     |██▌                             | 122 kB 11.2 MB/s eta 0:00:01\r\u001b[K     |██▊                             | 133 kB 11.2 MB/s eta 0:00:01\r\u001b[K     |███                             | 143 kB 11.2 MB/s eta 0:00:01\r\u001b[K     |███▏                            | 153 kB 11.2 MB/s eta 0:00:01\r\u001b[K     |███▍                            | 163 kB 11.2 MB/s eta 0:00:01\r\u001b[K     |███▌                            | 174 kB 11.2 MB/s eta 0:00:01\r\u001b[K     |███▊                            | 184 kB 11.2 MB/s eta 0:00:01\r\u001b[K     |████                            | 194 kB 11.2 MB/s eta 0:00:01\r\u001b[K     |████▏                           | 204 kB 11.2 MB/s eta 0:00:01\r\u001b[K     |████▍                           | 215 kB 11.2 MB/s eta 0:00:01\r\u001b[K     |████▋                           | 225 kB 11.2 MB/s eta 0:00:01\r\u001b[K     |████▉                           | 235 kB 11.2 MB/s eta 0:00:01\r\u001b[K     |█████                           | 245 kB 11.2 MB/s eta 0:00:01\r\u001b[K     |█████▎                          | 256 kB 11.2 MB/s eta 0:00:01\r\u001b[K     |█████▍                          | 266 kB 11.2 MB/s eta 0:00:01\r\u001b[K     |█████▋                          | 276 kB 11.2 MB/s eta 0:00:01\r\u001b[K     |█████▉                          | 286 kB 11.2 MB/s eta 0:00:01\r\u001b[K     |██████                          | 296 kB 11.2 MB/s eta 0:00:01\r\u001b[K     |██████▎                         | 307 kB 11.2 MB/s eta 0:00:01\r\u001b[K     |██████▌                         | 317 kB 11.2 MB/s eta 0:00:01\r\u001b[K     |██████▊                         | 327 kB 11.2 MB/s eta 0:00:01\r\u001b[K     |███████                         | 337 kB 11.2 MB/s eta 0:00:01\r\u001b[K     |███████                         | 348 kB 11.2 MB/s eta 0:00:01\r\u001b[K     |███████▎                        | 358 kB 11.2 MB/s eta 0:00:01\r\u001b[K     |███████▌                        | 368 kB 11.2 MB/s eta 0:00:01\r\u001b[K     |███████▊                        | 378 kB 11.2 MB/s eta 0:00:01\r\u001b[K     |████████                        | 389 kB 11.2 MB/s eta 0:00:01\r\u001b[K     |████████▏                       | 399 kB 11.2 MB/s eta 0:00:01\r\u001b[K     |████████▍                       | 409 kB 11.2 MB/s eta 0:00:01\r\u001b[K     |████████▋                       | 419 kB 11.2 MB/s eta 0:00:01\r\u001b[K     |████████▊                       | 430 kB 11.2 MB/s eta 0:00:01\r\u001b[K     |█████████                       | 440 kB 11.2 MB/s eta 0:00:01\r\u001b[K     |█████████▏                      | 450 kB 11.2 MB/s eta 0:00:01\r\u001b[K     |█████████▍                      | 460 kB 11.2 MB/s eta 0:00:01\r\u001b[K     |█████████▋                      | 471 kB 11.2 MB/s eta 0:00:01\r\u001b[K     |█████████▉                      | 481 kB 11.2 MB/s eta 0:00:01\r\u001b[K     |██████████                      | 491 kB 11.2 MB/s eta 0:00:01\r\u001b[K     |██████████▎                     | 501 kB 11.2 MB/s eta 0:00:01\r\u001b[K     |██████████▌                     | 512 kB 11.2 MB/s eta 0:00:01\r\u001b[K     |██████████▋                     | 522 kB 11.2 MB/s eta 0:00:01\r\u001b[K     |██████████▉                     | 532 kB 11.2 MB/s eta 0:00:01\r\u001b[K     |███████████                     | 542 kB 11.2 MB/s eta 0:00:01\r\u001b[K     |███████████▎                    | 552 kB 11.2 MB/s eta 0:00:01\r\u001b[K     |███████████▌                    | 563 kB 11.2 MB/s eta 0:00:01\r\u001b[K     |███████████▊                    | 573 kB 11.2 MB/s eta 0:00:01\r\u001b[K     |████████████                    | 583 kB 11.2 MB/s eta 0:00:01\r\u001b[K     |████████████▏                   | 593 kB 11.2 MB/s eta 0:00:01\r\u001b[K     |████████████▎                   | 604 kB 11.2 MB/s eta 0:00:01\r\u001b[K     |████████████▌                   | 614 kB 11.2 MB/s eta 0:00:01\r\u001b[K     |████████████▊                   | 624 kB 11.2 MB/s eta 0:00:01\r\u001b[K     |█████████████                   | 634 kB 11.2 MB/s eta 0:00:01\r\u001b[K     |█████████████▏                  | 645 kB 11.2 MB/s eta 0:00:01\r\u001b[K     |█████████████▍                  | 655 kB 11.2 MB/s eta 0:00:01\r\u001b[K     |█████████████▋                  | 665 kB 11.2 MB/s eta 0:00:01\r\u001b[K     |█████████████▉                  | 675 kB 11.2 MB/s eta 0:00:01\r\u001b[K     |██████████████                  | 686 kB 11.2 MB/s eta 0:00:01\r\u001b[K     |██████████████▏                 | 696 kB 11.2 MB/s eta 0:00:01\r\u001b[K     |██████████████▍                 | 706 kB 11.2 MB/s eta 0:00:01\r\u001b[K     |██████████████▋                 | 716 kB 11.2 MB/s eta 0:00:01\r\u001b[K     |██████████████▉                 | 727 kB 11.2 MB/s eta 0:00:01\r\u001b[K     |███████████████                 | 737 kB 11.2 MB/s eta 0:00:01\r\u001b[K     |███████████████▎                | 747 kB 11.2 MB/s eta 0:00:01\r\u001b[K     |███████████████▌                | 757 kB 11.2 MB/s eta 0:00:01\r\u001b[K     |███████████████▊                | 768 kB 11.2 MB/s eta 0:00:01\r\u001b[K     |███████████████▉                | 778 kB 11.2 MB/s eta 0:00:01\r\u001b[K     |████████████████                | 788 kB 11.2 MB/s eta 0:00:01\r\u001b[K     |████████████████▎               | 798 kB 11.2 MB/s eta 0:00:01\r\u001b[K     |████████████████▌               | 808 kB 11.2 MB/s eta 0:00:01\r\u001b[K     |████████████████▊               | 819 kB 11.2 MB/s eta 0:00:01\r\u001b[K     |█████████████████               | 829 kB 11.2 MB/s eta 0:00:01\r\u001b[K     |█████████████████▏              | 839 kB 11.2 MB/s eta 0:00:01\r\u001b[K     |█████████████████▍              | 849 kB 11.2 MB/s eta 0:00:01\r\u001b[K     |█████████████████▌              | 860 kB 11.2 MB/s eta 0:00:01\r\u001b[K     |█████████████████▊              | 870 kB 11.2 MB/s eta 0:00:01\r\u001b[K     |██████████████████              | 880 kB 11.2 MB/s eta 0:00:01\r\u001b[K     |██████████████████▏             | 890 kB 11.2 MB/s eta 0:00:01\r\u001b[K     |██████████████████▍             | 901 kB 11.2 MB/s eta 0:00:01\r\u001b[K     |██████████████████▋             | 911 kB 11.2 MB/s eta 0:00:01\r\u001b[K     |██████████████████▉             | 921 kB 11.2 MB/s eta 0:00:01\r\u001b[K     |███████████████████             | 931 kB 11.2 MB/s eta 0:00:01\r\u001b[K     |███████████████████▎            | 942 kB 11.2 MB/s eta 0:00:01\r\u001b[K     |███████████████████▍            | 952 kB 11.2 MB/s eta 0:00:01\r\u001b[K     |███████████████████▋            | 962 kB 11.2 MB/s eta 0:00:01\r\u001b[K     |███████████████████▉            | 972 kB 11.2 MB/s eta 0:00:01\r\u001b[K     |████████████████████            | 983 kB 11.2 MB/s eta 0:00:01\r\u001b[K     |████████████████████▎           | 993 kB 11.2 MB/s eta 0:00:01\r\u001b[K     |████████████████████▌           | 1.0 MB 11.2 MB/s eta 0:00:01\r\u001b[K     |████████████████████▊           | 1.0 MB 11.2 MB/s eta 0:00:01\r\u001b[K     |█████████████████████           | 1.0 MB 11.2 MB/s eta 0:00:01\r\u001b[K     |█████████████████████           | 1.0 MB 11.2 MB/s eta 0:00:01\r\u001b[K     |█████████████████████▎          | 1.0 MB 11.2 MB/s eta 0:00:01\r\u001b[K     |█████████████████████▌          | 1.1 MB 11.2 MB/s eta 0:00:01\r\u001b[K     |█████████████████████▊          | 1.1 MB 11.2 MB/s eta 0:00:01\r\u001b[K     |██████████████████████          | 1.1 MB 11.2 MB/s eta 0:00:01\r\u001b[K     |██████████████████████▏         | 1.1 MB 11.2 MB/s eta 0:00:01\r\u001b[K     |██████████████████████▍         | 1.1 MB 11.2 MB/s eta 0:00:01\r\u001b[K     |██████████████████████▋         | 1.1 MB 11.2 MB/s eta 0:00:01\r\u001b[K     |██████████████████████▊         | 1.1 MB 11.2 MB/s eta 0:00:01\r\u001b[K     |███████████████████████         | 1.1 MB 11.2 MB/s eta 0:00:01\r\u001b[K     |███████████████████████▏        | 1.1 MB 11.2 MB/s eta 0:00:01\r\u001b[K     |███████████████████████▍        | 1.1 MB 11.2 MB/s eta 0:00:01\r\u001b[K     |███████████████████████▋        | 1.2 MB 11.2 MB/s eta 0:00:01\r\u001b[K     |███████████████████████▉        | 1.2 MB 11.2 MB/s eta 0:00:01\r\u001b[K     |████████████████████████        | 1.2 MB 11.2 MB/s eta 0:00:01\r\u001b[K     |████████████████████████▎       | 1.2 MB 11.2 MB/s eta 0:00:01\r\u001b[K     |████████████████████████▌       | 1.2 MB 11.2 MB/s eta 0:00:01\r\u001b[K     |████████████████████████▋       | 1.2 MB 11.2 MB/s eta 0:00:01\r\u001b[K     |████████████████████████▉       | 1.2 MB 11.2 MB/s eta 0:00:01\r\u001b[K     |█████████████████████████       | 1.2 MB 11.2 MB/s eta 0:00:01\r\u001b[K     |█████████████████████████▎      | 1.2 MB 11.2 MB/s eta 0:00:01\r\u001b[K     |█████████████████████████▌      | 1.2 MB 11.2 MB/s eta 0:00:01\r\u001b[K     |█████████████████████████▊      | 1.3 MB 11.2 MB/s eta 0:00:01\r\u001b[K     |██████████████████████████      | 1.3 MB 11.2 MB/s eta 0:00:01\r\u001b[K     |██████████████████████████▏     | 1.3 MB 11.2 MB/s eta 0:00:01\r\u001b[K     |██████████████████████████▎     | 1.3 MB 11.2 MB/s eta 0:00:01\r\u001b[K     |██████████████████████████▌     | 1.3 MB 11.2 MB/s eta 0:00:01\r\u001b[K     |██████████████████████████▊     | 1.3 MB 11.2 MB/s eta 0:00:01\r\u001b[K     |███████████████████████████     | 1.3 MB 11.2 MB/s eta 0:00:01\r\u001b[K     |███████████████████████████▏    | 1.3 MB 11.2 MB/s eta 0:00:01\r\u001b[K     |███████████████████████████▍    | 1.3 MB 11.2 MB/s eta 0:00:01\r\u001b[K     |███████████████████████████▋    | 1.4 MB 11.2 MB/s eta 0:00:01\r\u001b[K     |███████████████████████████▉    | 1.4 MB 11.2 MB/s eta 0:00:01\r\u001b[K     |████████████████████████████    | 1.4 MB 11.2 MB/s eta 0:00:01\r\u001b[K     |████████████████████████████▏   | 1.4 MB 11.2 MB/s eta 0:00:01\r\u001b[K     |████████████████████████████▍   | 1.4 MB 11.2 MB/s eta 0:00:01\r\u001b[K     |████████████████████████████▋   | 1.4 MB 11.2 MB/s eta 0:00:01\r\u001b[K     |████████████████████████████▉   | 1.4 MB 11.2 MB/s eta 0:00:01\r\u001b[K     |█████████████████████████████   | 1.4 MB 11.2 MB/s eta 0:00:01\r\u001b[K     |█████████████████████████████▎  | 1.4 MB 11.2 MB/s eta 0:00:01\r\u001b[K     |█████████████████████████████▌  | 1.4 MB 11.2 MB/s eta 0:00:01\r\u001b[K     |█████████████████████████████▊  | 1.5 MB 11.2 MB/s eta 0:00:01\r\u001b[K     |█████████████████████████████▉  | 1.5 MB 11.2 MB/s eta 0:00:01\r\u001b[K     |██████████████████████████████  | 1.5 MB 11.2 MB/s eta 0:00:01\r\u001b[K     |██████████████████████████████▎ | 1.5 MB 11.2 MB/s eta 0:00:01\r\u001b[K     |██████████████████████████████▌ | 1.5 MB 11.2 MB/s eta 0:00:01\r\u001b[K     |██████████████████████████████▊ | 1.5 MB 11.2 MB/s eta 0:00:01\r\u001b[K     |███████████████████████████████ | 1.5 MB 11.2 MB/s eta 0:00:01\r\u001b[K     |███████████████████████████████▏| 1.5 MB 11.2 MB/s eta 0:00:01\r\u001b[K     |███████████████████████████████▍| 1.5 MB 11.2 MB/s eta 0:00:01\r\u001b[K     |███████████████████████████████▌| 1.5 MB 11.2 MB/s eta 0:00:01\r\u001b[K     |███████████████████████████████▊| 1.6 MB 11.2 MB/s eta 0:00:01\r\u001b[K     |████████████████████████████████| 1.6 MB 11.2 MB/s eta 0:00:01\r\u001b[K     |████████████████████████████████| 1.6 MB 11.2 MB/s \n",
            "\u001b[?25hRequirement already satisfied: scipy in /usr/local/lib/python3.7/dist-packages (from gym==0.17.2) (1.4.1)\n",
            "Requirement already satisfied: numpy>=1.10.4 in /usr/local/lib/python3.7/dist-packages (from gym==0.17.2) (1.19.5)\n",
            "Requirement already satisfied: pyglet<=1.5.0,>=1.4.0 in /usr/local/lib/python3.7/dist-packages (from gym==0.17.2) (1.5.0)\n",
            "Requirement already satisfied: cloudpickle<1.4.0,>=1.2.0 in /usr/local/lib/python3.7/dist-packages (from gym==0.17.2) (1.3.0)\n",
            "Requirement already satisfied: future in /usr/local/lib/python3.7/dist-packages (from pyglet<=1.5.0,>=1.4.0->gym==0.17.2) (0.16.0)\n",
            "Building wheels for collected packages: gym\n",
            "  Building wheel for gym (setup.py) ... \u001b[?25l\u001b[?25hdone\n",
            "  Created wheel for gym: filename=gym-0.17.2-py3-none-any.whl size=1650889 sha256=f6d60cd5ef1826b5d136ad94a07b6df7a903b5e816221d646cb4b99b23687da7\n",
            "  Stored in directory: /root/.cache/pip/wheels/18/e1/58/89a2aa24e6c2cc800204fc02010612afdf200926c4d6bfe315\n",
            "Successfully built gym\n",
            "Installing collected packages: gym\n",
            "  Attempting uninstall: gym\n",
            "    Found existing installation: gym 0.17.3\n",
            "    Uninstalling gym-0.17.3:\n",
            "      Successfully uninstalled gym-0.17.3\n",
            "Successfully installed gym-0.17.2\n",
            "Collecting atari-py==0.2.6\n",
            "  Downloading atari_py-0.2.6-cp37-cp37m-manylinux1_x86_64.whl (2.8 MB)\n",
            "\u001b[K     |████████████████████████████████| 2.8 MB 12.6 MB/s \n",
            "\u001b[?25hRequirement already satisfied: numpy in /usr/local/lib/python3.7/dist-packages (from atari-py==0.2.6) (1.19.5)\n",
            "Requirement already satisfied: six in /usr/local/lib/python3.7/dist-packages (from atari-py==0.2.6) (1.15.0)\n",
            "\u001b[33mWARNING: The candidate selected for download or install is a yanked version: 'atari-py' candidate (version 0.2.6 at https://files.pythonhosted.org/packages/8f/ba/1d22e9d2f332f07aaa57041f5dd569c2cb40a92bd6374a0b743ec3dfae97/atari_py-0.2.6-cp37-cp37m-manylinux1_x86_64.whl#sha256=d9e2c25d39783867c2f29d1dd9d3a659fc56036456d07dc9efe8bd7bb31a07d7 (from https://pypi.org/simple/atari-py/))\n",
            "Reason for being yanked: re-release with new wheels\u001b[0m\n",
            "Installing collected packages: atari-py\n",
            "  Attempting uninstall: atari-py\n",
            "    Found existing installation: atari-py 0.2.9\n",
            "    Uninstalling atari-py-0.2.9:\n",
            "      Successfully uninstalled atari-py-0.2.9\n",
            "Successfully installed atari-py-0.2.6\n"
          ]
        }
      ]
    },
    {
      "cell_type": "code",
      "metadata": {
        "id": "VGmEhOQVAWUp",
        "colab": {
          "base_uri": "https://localhost:8080/"
        },
        "outputId": "0d639a6c-7440-46ab-c40b-a12b6166586a"
      },
      "source": [
        "# Import Libraries\n",
        "\n",
        "import gym\n",
        "import atari_py\n",
        "\n",
        "print(gym.__version__)\n",
        "print(atari_py)"
      ],
      "execution_count": null,
      "outputs": [
        {
          "output_type": "stream",
          "name": "stdout",
          "text": [
            "0.17.2\n",
            "<module 'atari_py' from '/usr/local/lib/python3.7/dist-packages/atari_py/__init__.py'>\n"
          ]
        }
      ]
    },
    {
      "cell_type": "markdown",
      "metadata": {
        "id": "FGpstO77JeQD"
      },
      "source": [
        "# Reinforcement Learning from Screen Frames"
      ]
    },
    {
      "cell_type": "code",
      "metadata": {
        "id": "XYWzzVIm041H"
      },
      "source": [
        "# Create game environment\n",
        "env = gym.make()"
      ],
      "execution_count": null,
      "outputs": []
    },
    {
      "cell_type": "markdown",
      "metadata": {
        "id": "fyxQuhsvMG0p"
      },
      "source": [
        "# Reinforcement Learning with RAM"
      ]
    },
    {
      "cell_type": "code",
      "metadata": {
        "id": "9sFk9WrTMb7z"
      },
      "source": [
        ""
      ],
      "execution_count": null,
      "outputs": []
    },
    {
      "cell_type": "markdown",
      "metadata": {
        "id": "KJmMkfh8McdN"
      },
      "source": [
        "# Reinforcement Learning by Mixing Screen and RAM"
      ]
    },
    {
      "cell_type": "code",
      "metadata": {
        "id": "7BJaLIFUMgyY"
      },
      "source": [
        ""
      ],
      "execution_count": null,
      "outputs": []
    }
  ]
}