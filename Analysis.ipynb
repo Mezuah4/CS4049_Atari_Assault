{
  "cells": [
    {
      "cell_type": "markdown",
      "source": [
        "# Analysis of Results"
      ],
      "metadata": {
        "collapsed": false,
        "id": "qUj1Z8b90-l-"
      }
    },
    {
      "cell_type": "code",
      "execution_count": null,
      "metadata": {
        "collapsed": true,
        "id": "tPRWUVVh0-mB"
      },
      "outputs": [],
      "source": [
        "# Imports\n",
        "\n",
        "# Plotting\n",
        "import pandas as pd\n",
        "import numpy as np\n",
        "import matplotlib.pyplot as plt\n",
        "import seaborn as sns\n",
        "\n",
        "# Statistical Analysis\n",
        "from scipy.stats import f_oneway\n",
        "from statsmodels.stats.multicomp import pairwise_ttest"
      ]
    },
    {
      "cell_type": "code",
      "execution_count": null,
      "outputs": [],
      "source": [
        "DATA_PATH = \"./drive/MyDrive/ML/ANALYSIS/\""
      ],
      "metadata": {
        "pycharm": {
          "name": "#%%\n"
        },
        "id": "6gFT9BLw0-mC"
      }
    },
    {
      "cell_type": "markdown",
      "source": [
        "## Training Curves"
      ],
      "metadata": {
        "collapsed": false,
        "id": "CBNTgZwC0-mC"
      }
    },
    {
      "cell_type": "code",
      "execution_count": null,
      "outputs": [],
      "source": [
        "# FRAMES\n",
        "\n",
        "# IMPORT DATA\n",
        "episode_rewards = pd.read_csv(DATA_PATH + \"frames.csv\")\n",
        "\n",
        "# PROCESS\n",
        "EPISODES_PER_EPOCH = 99\n",
        "\n",
        "average_rewards = [np.mean(episode_rewards[i - EPISODES_PER_EPOCH : i]) for i in range(len(episode_rewards), EPISODES_PER_EPOCH, -1)]\n",
        "\n",
        "bins = [x/10 for x in range(len(average_rewards))]\n",
        "\n",
        "# PLOT\n",
        "plt.figure(figsize=(10, 5))\n",
        "plt.plot(bins, average_rewards)\n",
        "plt.xlabel(\"Epoch\")\n",
        "plt.ylabel(\"Average Reward Over Last 10 Episodes\")\n",
        "plt.show()"
      ],
      "metadata": {
        "pycharm": {
          "name": "#%%\n"
        },
        "id": "HD-VSAZj0-mD"
      }
    },
    {
      "cell_type": "code",
      "execution_count": null,
      "outputs": [],
      "source": [
        "# RAM\n",
        "\n",
        "# IMPORT DATA\n",
        "episode_rewards = pd.read_csv(DATA_PATH + \"ram.csv\")\n",
        "\n",
        "# PROCESS\n",
        "EPISODES_PER_EPOCH = 99\n",
        "\n",
        "average_rewards = [np.mean(episode_rewards[i - EPISODES_PER_EPOCH : i]) for i in range(len(episode_rewards), EPISODES_PER_EPOCH, -1)]\n",
        "\n",
        "bins = [x/10 for x in range(len(average_rewards))]\n",
        "\n",
        "# PLOT\n",
        "plt.figure(figsize=(10, 5))\n",
        "plt.plot(bins, average_rewards)\n",
        "plt.xlabel(\"Epoch\")\n",
        "plt.ylabel(\"Average Reward Over Last 10 Episodes\")\n",
        "plt.show()"
      ],
      "metadata": {
        "pycharm": {
          "name": "#%%\n"
        },
        "id": "JWA7HMQp0-mD"
      }
    },
    {
      "cell_type": "code",
      "execution_count": null,
      "outputs": [],
      "source": [
        "# HYBRID\n",
        "\n",
        "# IMPORT DATA\n",
        "episode_rewards = pd.read_csv(DATA_PATH + \"hybrid.csv\")\n",
        "\n",
        "# PROCESS\n",
        "EPISODES_PER_EPOCH = 99\n",
        "\n",
        "average_rewards = [np.mean(episode_rewards[i - EPISODES_PER_EPOCH : i]) for i in range(len(episode_rewards), EPISODES_PER_EPOCH, -1)]\n",
        "\n",
        "bins = [x/10 for x in range(len(average_rewards))]\n",
        "\n",
        "# PLOT\n",
        "plt.figure(figsize=(10, 5))\n",
        "plt.plot(bins, average_rewards)\n",
        "plt.xlabel(\"Epoch\")\n",
        "plt.ylabel(\"Average Reward Over Last 10 Episodes\")\n",
        "plt.show()"
      ],
      "metadata": {
        "pycharm": {
          "name": "#%%\n"
        },
        "id": "FXp-wbq-0-mE"
      }
    },
    {
      "cell_type": "markdown",
      "source": [
        "## Test Scores"
      ],
      "metadata": {
        "collapsed": false,
        "id": "7VFgzBLB0-mF"
      }
    },
    {
      "cell_type": "code",
      "execution_count": null,
      "outputs": [],
      "source": [
        "# IMPORT DATA\n",
        "results = []"
      ],
      "metadata": {
        "pycharm": {
          "name": "#%%\n"
        },
        "id": "osYS-O2S0-mF"
      }
    },
    {
      "cell_type": "code",
      "execution_count": null,
      "outputs": [],
      "source": [
        "# PLOT DISTRIBUTIONS SUBPLOT\n",
        "fig, ax = plt.subplots(1, 3, figsize=(20, 5))\n",
        "\n",
        "ax[0].set_title('FRAMES')\n",
        "ax[0].set_xlabel('Total Episodic Reward')\n",
        "ax[0].set_ylabel('Count')\n",
        "\n",
        "ax[1].set_title('RAM')\n",
        "ax[1].set_xlabel('Total Episodic Reward')\n",
        "ax[1].set_ylabel('Count')\n",
        "\n",
        "ax[2].set_title('HYBRID')\n",
        "ax[2].set_xlabel('Total Episodic Reward')\n",
        "ax[2].set_ylabel('Count')\n",
        "\n",
        "# Plot FRAMES\n",
        "sns.histplot(ax=ax[0], x=results[0], stat='count', kde=1)\n",
        "\n",
        "# Plot RAM\n",
        "sns.histplot(ax=ax[1], x=results[1], stat='count', kde=1)\n",
        "\n",
        "# Plot HYBRID\n",
        "sns.histplot(ax=ax[2], x=results[2], stat='count', kde=1)"
      ],
      "metadata": {
        "pycharm": {
          "name": "#%%\n"
        },
        "id": "JYRsy3E40-mF"
      }
    },
    {
      "cell_type": "code",
      "execution_count": null,
      "outputs": [],
      "source": [
        "# PLOT BAR CHART OF MEAN SCORES\n",
        "plt.set_ylabel('Average Episodic Reward')\n",
        "y_offset = 0\n",
        "\n",
        "plt.bar(x=['FRAMES', 'RAM', 'HYBRID'], bottom=y_offset, height=results - y_offset, width=0.3)\n",
        "\n",
        "plt.show()"
      ],
      "metadata": {
        "pycharm": {
          "name": "#%%\n"
        },
        "id": "_ng0DqZI0-mG"
      }
    },
    {
      "cell_type": "markdown",
      "source": [
        "## Statistical Analysis"
      ],
      "metadata": {
        "collapsed": false,
        "id": "Kv6rGaOF0-mG"
      }
    },
    {
      "cell_type": "code",
      "execution_count": null,
      "outputs": [],
      "source": [
        "# Pairwise Tests\n",
        "EPISODES = 10\n",
        "\n",
        "g = np.concatenate([['FRAMES'] * 50, ['RAM'] * 50, ['HYBRID'] * 50, ['NB'] * 50])\n",
        "\n",
        "x = np.concatenate(results)\n",
        "\n",
        "res = pairwise_tukeyhsd(x, g, alpha=0.05)\n",
        "print(res.summary())"
      ],
      "metadata": {
        "pycharm": {
          "name": "#%%\n"
        },
        "id": "cKIf_paC0-mH"
      }
    }
  ],
  "metadata": {
    "kernelspec": {
      "display_name": "Python 3",
      "language": "python",
      "name": "python3"
    },
    "language_info": {
      "codemirror_mode": {
        "name": "ipython",
        "version": 2
      },
      "file_extension": ".py",
      "mimetype": "text/x-python",
      "name": "python",
      "nbconvert_exporter": "python",
      "pygments_lexer": "ipython2",
      "version": "2.7.6"
    },
    "colab": {
      "name": "Analysis.ipynb",
      "provenance": [],
      "collapsed_sections": []
    }
  },
  "nbformat": 4,
  "nbformat_minor": 0
}