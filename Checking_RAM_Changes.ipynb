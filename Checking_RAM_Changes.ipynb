{
 "cells": [
  {
   "cell_type": "markdown",
   "source": [
    "## Imports"
   ],
   "metadata": {
    "collapsed": false
   }
  },
  {
   "cell_type": "code",
   "execution_count": 48,
   "metadata": {
    "collapsed": true
   },
   "outputs": [],
   "source": [
    "# TensorFlow\n",
    "import tensorflow as tf\n",
    "from tensorflow import keras\n",
    "\n",
    "# Maths\n",
    "import numpy as np\n",
    "import matplotlib.pyplot as plt\n",
    "\n",
    "# Gym\n",
    "import gym\n",
    "\n",
    "# Common\n",
    "import os\n",
    "import sys\n",
    "\n",
    "# Other\n",
    "from collections import deque"
   ]
  },
  {
   "cell_type": "markdown",
   "source": [
    "## Data structure for storing changes"
   ],
   "metadata": {
    "collapsed": false
   }
  },
  {
   "cell_type": "code",
   "execution_count": 49,
   "outputs": [],
   "source": [
    "import copy\n",
    "\n",
    "class RamChange():\n",
    "    def __init__(self, initialRAM):\n",
    "        self.initialRAM = initialRAM\n",
    "        self.vals = [0] * len(initialRAM)   # Track how many times each cell changes\n",
    "        self.previous = initialRAM\n",
    "        self.ranking = []\n",
    "\n",
    "    def change(self, newRAM):\n",
    "        for i in range(len(newRAM)):\n",
    "            if newRAM[i] != self.previous[i]:\n",
    "                self.vals[i] += 1\n",
    "        self.previous = newRAM\n",
    "\n",
    "    def get_ranking(self):\n",
    "        # Find best\n",
    "        self.ranking = []\n",
    "        vs = copy.deepcopy(self.vals)\n",
    "        usedIndex = []\n",
    "        for i in range(len(vs)):\n",
    "            max = None\n",
    "            max_index = None\n",
    "            for j in range(len(vs)):\n",
    "                if (max is None or max < vs[j]) and j not in usedIndex:\n",
    "                    max = vs[j]\n",
    "                    max_index = j\n",
    "\n",
    "            self.ranking.append((max_index, max))\n",
    "            vs[max_index] = 0\n",
    "            usedIndex.append(max_index)\n",
    "        return self.ranking\n",
    "\n",
    "    def prepare_lists(self):\n",
    "        indices = []\n",
    "        num_occurances = []\n",
    "        for i in range(len(self.vals)):\n",
    "            indices.append(i)\n",
    "            num_occurances.append(self.vals[i])\n",
    "\n",
    "        return indices, num_occurances\n",
    "\n",
    "    def __str__(self):\n",
    "        return self.vals"
   ],
   "metadata": {
    "collapsed": false,
    "pycharm": {
     "name": "#%%\n"
    }
   }
  },
  {
   "cell_type": "markdown",
   "source": [
    "## Loading Model"
   ],
   "metadata": {
    "collapsed": false
   }
  },
  {
   "cell_type": "code",
   "execution_count": 50,
   "outputs": [],
   "source": [
    "keras.backend.clear_session()\n",
    "\n",
    "env = gym.make(\"AssaultNoFrameskip-v4\")\n",
    "input_shape = (98, 80, 1)\n",
    "n_outputs = env.action_space.n\n",
    "\n",
    "initializer = keras.initializers.VarianceScaling()\n",
    "\n",
    "# Create Model\n",
    "model = keras.models.Sequential([\n",
    "    keras.layers.Dense(units=128, activation=\"relu\", kernel_initializer=initializer),\n",
    "    keras.layers.Dense(n_outputs, activation=\"relu\", kernel_initializer=initializer)\n",
    "])\n",
    "model.build((None, 128))"
   ],
   "metadata": {
    "collapsed": false,
    "pycharm": {
     "name": "#%%\n"
    }
   }
  },
  {
   "cell_type": "code",
   "execution_count": 51,
   "outputs": [
    {
     "name": "stdout",
     "output_type": "stream",
     "text": [
      "Successfully Loaded Previous Weights\n"
     ]
    }
   ],
   "source": [
    "# Load Existing Model (if it exists)\n",
    "model.load_weights(os.getcwd() + \"\\RAM_Weights_Experiment\\checkpoint.ckpt\")\n",
    "print(\"Successfully Loaded Previous Weights\")"
   ],
   "metadata": {
    "collapsed": false,
    "pycharm": {
     "name": "#%%\n"
    }
   }
  },
  {
   "cell_type": "markdown",
   "source": [
    "## Running Experiment"
   ],
   "metadata": {
    "collapsed": false
   }
  },
  {
   "cell_type": "code",
   "execution_count": 52,
   "outputs": [],
   "source": [
    "done = False\n",
    "obs = env.reset()\n",
    "ram = env.ale.getRAM()\n",
    "\n",
    "changes = RamChange(ram)\n",
    "\n",
    "arr = []\n",
    "\n",
    "while not done:\n",
    "    prevRAM = ram\n",
    "    obs, reward, done, info = env.step(0)\n",
    "    ram = env.ale.getRAM()\n",
    "\n",
    "    arr.append(np.abs(ram - prevRAM))\n",
    "\n",
    "    if not done:\n",
    "        changes.change(ram)"
   ],
   "metadata": {
    "collapsed": false,
    "pycharm": {
     "name": "#%%\n"
    }
   }
  },
  {
   "cell_type": "code",
   "execution_count": 53,
   "outputs": [
    {
     "name": "stdout",
     "output_type": "stream",
     "text": [
      "[(103, 642), (107, 642), (102, 640), (61, 639), (116, 617), (122, 608), (123, 328), (35, 319), (38, 319), (33, 318), (34, 318), (36, 318), (37, 318), (80, 317), (81, 317), (68, 304), (69, 304), (17, 218), (19, 218), (23, 68), (60, 64), (10, 60), (63, 51), (30, 40), (71, 40), (110, 40), (45, 36), (47, 36), (126, 24), (127, 17), (31, 12), (114, 10), (50, 9), (9, 8), (75, 8), (120, 8), (121, 8), (48, 7), (49, 7), (92, 6), (105, 6), (124, 6), (56, 5), (70, 5), (101, 4), (52, 3), (55, 3), (51, 2), (53, 2), (62, 2), (21, 1), (24, 1), (25, 1), (44, 1), (46, 1), (54, 1), (0, 0), (1, 0), (2, 0), (3, 0), (4, 0), (5, 0), (6, 0), (7, 0), (8, 0), (11, 0), (12, 0), (13, 0), (14, 0), (15, 0), (16, 0), (18, 0), (20, 0), (22, 0), (26, 0), (27, 0), (28, 0), (29, 0), (32, 0), (39, 0), (40, 0), (41, 0), (42, 0), (43, 0), (57, 0), (58, 0), (59, 0), (64, 0), (65, 0), (66, 0), (67, 0), (72, 0), (73, 0), (74, 0), (76, 0), (77, 0), (78, 0), (79, 0), (82, 0), (83, 0), (84, 0), (85, 0), (86, 0), (87, 0), (88, 0), (89, 0), (90, 0), (91, 0), (93, 0), (94, 0), (95, 0), (96, 0), (97, 0), (98, 0), (99, 0), (100, 0), (104, 0), (106, 0), (108, 0), (109, 0), (111, 0), (112, 0), (113, 0), (115, 0), (117, 0), (118, 0), (119, 0), (125, 0)]\n"
     ]
    }
   ],
   "source": [
    "r = changes.get_ranking()\n",
    "print(r)"
   ],
   "metadata": {
    "collapsed": false,
    "pycharm": {
     "name": "#%%\n"
    }
   }
  },
  {
   "cell_type": "code",
   "execution_count": 54,
   "outputs": [
    {
     "name": "stdout",
     "output_type": "stream",
     "text": [
      "[  0   0   0   0   0   0   0   0   0   0   0  96 254   0   0   0   6 100\n",
      " 100 100   0   0   0   0  88 254   0   0 192   0 136 252   2   2   2   2\n",
      " 130 130 130   6 188 255   0  25   0 253   0 253 128  64 128 128  64 128\n",
      "   0   0   0   0   0   0   0   0  16  16   0 253   0 127 115 100  64  19\n",
      "  24   0 253   0   0   0   0   0   2 130   0 254   0 254   0 254   0 254\n",
      "   0 254 144  60   0   0   0   0   0  80 254   4 207  68   0  10   0   4\n",
      "   0   0 255 248   0   0  64   0 172   0   0   0  15 252 157 251  64 251\n",
      " 112 243]\n"
     ]
    }
   ],
   "source": [
    "print(changes.initialRAM)"
   ],
   "metadata": {
    "collapsed": false,
    "pycharm": {
     "name": "#%%\n"
    }
   }
  },
  {
   "cell_type": "code",
   "execution_count": 55,
   "outputs": [
    {
     "name": "stdout",
     "output_type": "stream",
     "text": [
      "[  0   0   0   0   0   0   0   0   0   0   0  96 254   0   0   0   6 146\n",
      " 100 146   0 198   0   0   0 253   0   0 192   0 136 252   2   2  89 215\n",
      " 146 233  72   6 188 255   0  25 160 252 168 252  64 128  64 128 128 128\n",
      " 192 192 192   0   0   0   0   3  18  31   0 253   0 127  70  55 128  19\n",
      "  24   0 253   0   0   0   0   0   2 146   0 254   0 254   0 254   0 254\n",
      "   0 254 144  60   0   0   0   0   0  80 254   0 117 198   0   7   0  14\n",
      "   0   0 255 248   0   0  64   0 154   0   0   0  15 252 248 251  64 251\n",
      "   9 245]\n"
     ]
    }
   ],
   "source": [
    "print(changes.previous)"
   ],
   "metadata": {
    "collapsed": false,
    "pycharm": {
     "name": "#%%\n"
    }
   }
  },
  {
   "cell_type": "code",
   "execution_count": 56,
   "outputs": [
    {
     "name": "stdout",
     "output_type": "stream",
     "text": [
      "[0, 0, 0, 0, 0, 0, 0, 0, 0, 8, 60, 0, 0, 0, 0, 0, 0, 218, 0, 218, 0, 1, 0, 68, 1, 1, 0, 0, 0, 0, 40, 12, 0, 318, 318, 319, 318, 318, 319, 0, 0, 0, 0, 0, 1, 36, 1, 36, 7, 7, 9, 2, 3, 2, 1, 3, 5, 0, 0, 0, 64, 639, 2, 51, 0, 0, 0, 0, 304, 304, 5, 40, 0, 0, 0, 8, 0, 0, 0, 0, 317, 317, 0, 0, 0, 0, 0, 0, 0, 0, 0, 0, 6, 0, 0, 0, 0, 0, 0, 0, 0, 4, 640, 642, 0, 6, 0, 642, 0, 0, 40, 0, 0, 0, 10, 0, 617, 0, 0, 0, 8, 8, 608, 328, 6, 0, 24, 17]\n"
     ]
    }
   ],
   "source": [
    "print(changes.vals)"
   ],
   "metadata": {
    "collapsed": false,
    "pycharm": {
     "name": "#%%\n"
    }
   }
  },
  {
   "cell_type": "code",
   "execution_count": 57,
   "outputs": [
    {
     "data": {
      "text/plain": "<Figure size 1080x360 with 1 Axes>",
      "image/png": "[encoded data removed]"
     },
     "metadata": {
      "needs_background": "light"
     },
     "output_type": "display_data"
    }
   ],
   "source": [
    "indices, num_occurances = changes.prepare_lists()\n",
    "\n",
    "# print(indices, num_occurances)\n",
    "\n",
    "fig = plt.figure(figsize=(15, 5))\n",
    "ax = plt.subplot()\n",
    "\n",
    "ax.bar(indices, num_occurances, width=0.7)\n",
    "\n",
    "plt.xticks(range(0, 128), indices)\n",
    "ax.locator_params(axis='x', nbins=32)\n",
    "\n",
    "ax.set_xlabel(\"RAM Cell Index\")\n",
    "ax.set_ylabel(\"Number of Changes\")\n",
    "ax.set(title=\"Number of Changes per RAM Cell\")\n",
    "\n",
    "plt.show()"
   ],
   "metadata": {
    "collapsed": false,
    "pycharm": {
     "name": "#%%\n"
    }
   }
  },
  {
   "cell_type": "code",
   "execution_count": 58,
   "outputs": [
    {
     "data": {
      "text/plain": "<Figure size 1080x360 with 1 Axes>",
      "image/png": "[encoded data removed]"
     },
     "metadata": {
      "needs_background": "light"
     },
     "output_type": "display_data"
    }
   ],
   "source": [
    "histogram = arr[0]\n",
    "for i in arr[1:]:\n",
    "    histogram = histogram + (i)\n",
    "\n",
    "plt.figure(figsize=(15, 5))\n",
    "plt.bar(range(128), histogram)\n",
    "plt.show()"
   ],
   "metadata": {
    "collapsed": false,
    "pycharm": {
     "name": "#%%\n"
    }
   }
  }
 ],
 "metadata": {
  "kernelspec": {
   "display_name": "Python 3",
   "language": "python",
   "name": "python3"
  },
  "language_info": {
   "codemirror_mode": {
    "name": "ipython",
    "version": 2
   },
   "file_extension": ".py",
   "mimetype": "text/x-python",
   "name": "python",
   "nbconvert_exporter": "python",
   "pygments_lexer": "ipython2",
   "version": "2.7.6"
  }
 },
 "nbformat": 4,
 "nbformat_minor": 0
}