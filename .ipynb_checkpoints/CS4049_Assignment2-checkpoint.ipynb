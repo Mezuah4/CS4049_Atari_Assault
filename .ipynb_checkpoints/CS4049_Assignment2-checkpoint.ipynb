{
 "cells": [
  {
   "cell_type": "markdown",
   "metadata": {
    "id": "9DMsZuhhASEG"
   },
   "source": [
    "# CS4049 Assignment 2 - Atari Deep Learning"
   ]
  },
  {
   "cell_type": "code",
   "execution_count": 1,
   "metadata": {
    "colab": {
     "base_uri": "https://localhost:8080/"
    },
    "id": "Unb-wSWz9znM",
    "outputId": "9b73e348-e28e-49e5-d1db-cc78f79a230d",
    "pycharm": {
     "name": "#%%\n"
    }
   },
   "outputs": [],
   "source": [
    "# !pip install tensorflow==2.3.1 gym keras-rl2 gym[atari]\n",
    "# !apt-get install -y xvfb python-opengl ffmeg > /def/null 2>&1\n",
    "\n",
    "# !pip install atari_py==0.2.6 gym==0.17.2 keras-rl2 pyglet\n",
    "# !pip install -U colabgymrender"
   ]
  },
  {
   "cell_type": "code",
   "execution_count": 2,
   "metadata": {
    "id": "VGmEhOQVAWUp"
   },
   "outputs": [],
   "source": [
    "# For deep neural networks\n",
    "import tensorflow.compat.v1 as tf\n",
    "import tf_slim as slim\n",
    "\n",
    "# For data representation\n",
    "import numpy as np\n",
    "import random\n",
    "\n",
    "# For handling files\n",
    "import os\n",
    "\n",
    "# For plotting graphs\n",
    "import matplotlib\n",
    "import matplotlib.pyplot as plt\n",
    "\n",
    "# OpenAI Gym\n",
    "import gym\n",
    "env = gym.make(\"Assault-v0\")\n",
    "# I have installed pyglet-1.5.11 for it work with BigSur"
   ]
  },
  {
   "cell_type": "code",
   "execution_count": 3,
   "metadata": {
    "colab": {
     "base_uri": "https://localhost:8080/"
    },
    "id": "ajAIsHnC9znM",
    "outputId": "2eb36557-a1ec-4e14-c602-74d20c6b78b4",
    "pycharm": {
     "name": "#%%\n"
    }
   },
   "outputs": [
    {
     "name": "stdout",
     "output_type": "stream",
     "text": [
      "Device mapping: no known devices.\n"
     ]
    }
   ],
   "source": [
    "sess = tf.compat.v1.Session(config=tf.compat.v1.ConfigProto(log_device_placement=True))"
   ]
  },
  {
   "cell_type": "markdown",
   "metadata": {
    "id": "xV1YY6WZ9znO"
   },
   "source": [
    "# Reinforcement Learning with Frames"
   ]
  },
  {
   "cell_type": "markdown",
   "metadata": {},
   "source": [
    "## Task 1.1: Create Environment (Investigate Action Space)"
   ]
  },
  {
   "cell_type": "code",
   "execution_count": 4,
   "metadata": {
    "id": "SluE0QkWHVxJ"
   },
   "outputs": [
    {
     "name": "stdout",
     "output_type": "stream",
     "text": [
      "Action space:  Discrete(7)\n",
      "Observation space:  Box(250, 160, 3)\n",
      "{'ale.lives': 4}\n"
     ]
    }
   ],
   "source": [
    "# Describe Action & Observation Space\n",
    "print(\"Action space: \", env.action_space)\n",
    "print(\"Observation space: \", env.observation_space)\n",
    "\n",
    "env.reset()\n",
    "next_obs, reward, done, info = env.step(0)\n",
    "print(info)"
   ]
  },
  {
   "cell_type": "code",
   "execution_count": 5,
   "metadata": {
    "pycharm": {
     "name": "#%%\n"
    }
   },
   "outputs": [],
   "source": [
    "# class RandomAgent():\n",
    "#     def __init__(self, env):\n",
    "#         self.action_size = env.action_space.n\n",
    "#\n",
    "#     def get_action(self, observation):\n",
    "#         return random.choice(range(self.action_size))\n",
    "#\n",
    "# reward_episodes = []\n",
    "# numberOfEpisodes = 10\n",
    "# agent = RandomAgent(env)\n",
    "# for ep in range(numberOfEpisodes):\n",
    "#     current_obs = env.reset()\n",
    "#     done = False\n",
    "#     total_reward_ep = 0\n",
    "#     while not done:\n",
    "#         action = agent.get_action(current_obs)\n",
    "#         next_obs, reward, done, info = env.step(action)\n",
    "#         env.render()\n",
    "#         total_reward_ep += reward\n",
    "#     reward_episodes.append(total_reward_ep)\n",
    "#\n",
    "# print(\"Average reward per episode: {}\".format(np.sum(reward_episodes)/numberOfEpisodes))\n",
    "# env.close()"
   ]
  },
  {
   "cell_type": "markdown",
   "metadata": {},
   "source": [
    "## Task 1.3: Pre-Processing"
   ]
  },
  {
   "cell_type": "code",
   "execution_count": 6,
   "metadata": {
    "pycharm": {
     "name": "#%%\n"
    }
   },
   "outputs": [
    {
     "data": {
      "image/png": "[encoded data removed]",
      "text/plain": [
       "<Figure size 432x288 with 1 Axes>"
      ]
     },
     "metadata": {
      "needs_background": "light"
     },
     "output_type": "display_data"
    },
    {
     "data": {
      "text/plain": [
       "<matplotlib.image.AxesImage at 0x13adfab0970>"
      ]
     },
     "execution_count": 6,
     "metadata": {},
     "output_type": "execute_result"
    },
    {
     "data": {
      "image/png": "[encoded data removed]",
      "text/plain": [
       "<Figure size 432x288 with 1 Axes>"
      ]
     },
     "metadata": {
      "needs_background": "light"
     },
     "output_type": "display_data"
    }
   ],
   "source": [
    "obs = env.reset()\n",
    "\n",
    "def preprocess_observation(observation):\n",
    "\n",
    "    # Slice Top Off\n",
    "    img = observation[34:250:2, ::2]\n",
    "\n",
    "    # Grey Scale\n",
    "    img = img.mean(axis=2)\n",
    "    img = (img - 128).astype(np.int8)\n",
    "\n",
    "    return img.reshape(108, 80, 1)\n",
    "\n",
    "plt.imshow(obs)\n",
    "plt.show()\n",
    "plt.imshow(preprocess_observation(obs).reshape(108, 80), cmap=\"gray\", vmin=-128, vmax=127)"
   ]
  },
  {
   "cell_type": "markdown",
   "metadata": {},
   "source": [
    "## Task 1.4: Implement Deep Convolutional Network"
   ]
  },
  {
   "cell_type": "markdown",
   "metadata": {},
   "source": [
    "### Create Deep Convolutional Network"
   ]
  },
  {
   "cell_type": "code",
   "execution_count": 7,
   "metadata": {
    "pycharm": {
     "name": "#%%\n"
    }
   },
   "outputs": [],
   "source": [
    "def q_network(X_state, name):\n",
    "    prev_layer = X_state / 128 #the values will be between [-1, 1]\n",
    "    initializer = tf.variance_scaling_initializer()\n",
    "    hidden_activation = tf.nn.relu\n",
    "    with tf.variable_scope(name) as scope:\n",
    "        prev_layer = tf.layers.conv2d(prev_layer, filters=32,\n",
    "                                      kernel_size = 8, strides = 4,\n",
    "                                      padding=\"SAME\", activation= hidden_activation,\n",
    "                                      kernel_initializer = initializer)\n",
    "        prev_layer = tf.layers.conv2d(prev_layer, filters=64,\n",
    "                                      kernel_size = 4, strides = 2,\n",
    "                                      padding=\"SAME\", activation= hidden_activation,\n",
    "                                      kernel_initializer = initializer)\n",
    "        prev_layer = tf.layers.conv2d(prev_layer, filters=64,\n",
    "                                      kernel_size = 3, strides = 1,\n",
    "                                      padding=\"SAME\", activation= hidden_activation,\n",
    "                                      kernel_initializer = initializer)\n",
    "        last_conv_layer_flat = tf.reshape(prev_layer, shape= [-1, 8960])\n",
    "        hidden = tf.layers.dense(last_conv_layer_flat, 512,\n",
    "                                 activation = hidden_activation, kernel_initializer = initializer)\n",
    "        outputs = tf.layers.dense(hidden, env.action_space.n, kernel_initializer = initializer)\n",
    "    trainable_vars = tf.get_collection(tf.GraphKeys.TRAINABLE_VARIABLES, scope = scope.name)\n",
    "    trainable_vars_by_name = { var.name[len(scope.name):] : var for var in trainable_vars}\n",
    "    return outputs, trainable_vars_by_name"
   ]
  },
  {
   "cell_type": "markdown",
   "metadata": {},
   "source": [
    "### Create Using Deep Convolutional Network"
   ]
  },
  {
   "cell_type": "code",
   "execution_count": 8,
   "metadata": {
    "pycharm": {
     "name": "#%%\n"
    }
   },
   "outputs": [],
   "source": [
    "class QLearningAgent():\n",
    "    def __init__(self, env, learning_rate = 0.001, momemtum = 0.95):\n",
    "        self.action_size = env.action_space.n\n",
    "        self.loss_val = np.infty\n",
    "        tf.reset_default_graph()\n",
    "        tf.disable_eager_execution()\n",
    "\n",
    "        self.discount_rate = 0.99\n",
    "\n",
    "        self.checkpoint_path = \"./my_dqn_assault.ckpt\"\n",
    "\n",
    "        self.X_state = tf.placeholder(tf.float32, shape= [None, 108, 80, 1])\n",
    "        self.online_q_values, self.online_vars = q_network(self.X_state, name = \"q_networks/online\")\n",
    "        self.target_q_values, self.target_vars = q_network(self.X_state, name = \"q_networks/target\")\n",
    "\n",
    "        #Define the operations to copy the online network to the target network\n",
    "        self.copy_ops = [ target_var.assign(self.online_vars[var_name])\n",
    "                          for var_name, target_var in self.target_vars.items()]\n",
    "        self.copy_online_to_target = tf.group(*self.copy_ops)\n",
    "\n",
    "        # The structure of the training\n",
    "        with tf.variable_scope(\"train\"):\n",
    "            self.X_action = tf.placeholder(tf.int32, shape=[None])\n",
    "            self.y = tf.placeholder(tf.float32, shape=[None, 1])\n",
    "            self.q_value = tf.reduce_sum(self.online_q_values * tf.one_hot(self.X_action, self.action_size),\n",
    "                                         axis=1, keepdims = True)\n",
    "\n",
    "            self.error = tf.abs( self.y - self.q_value) #A value between 0 and infty\n",
    "            self.clipped_error = tf.clip_by_value(self.error, 0.0, 1.0) #If it is above 1 then it becomes 1\n",
    "            self.linear_error = 2 * (self.error - self.clipped_error)\n",
    "            self.loss = tf.reduce_mean(tf.square(self.clipped_error) + self.linear_error)\n",
    "\n",
    "            self.global_step = tf.Variable(0, trainable = False, name = \"global_step\")\n",
    "            self.optimizer = tf.train.MomentumOptimizer(learning_rate, momentum = momemtum, use_nesterov = True)\n",
    "            self.training_op = self.optimizer.minimize(self.loss, global_step = self.global_step)\n",
    "\n",
    "        # Saving\n",
    "        self.saver = tf.train.Saver()\n",
    "        self.sess = tf.Session()\n",
    "        if os.path.isfile(self.checkpoint_path + \".index\"):\n",
    "            self.saver.restore(self.sess, self.checkpoint_path)\n",
    "        else:\n",
    "            self.sess.run(tf.global_variables_initializer())\n",
    "            self.sess.run(self.copy_online_to_target)\n",
    "\n",
    "    def get_action(self, q_values, step):\n",
    "        epsilon = max(0.1, 1 - (0.9/2000000) * step)\n",
    "        if np.random.rand() < epsilon:\n",
    "            return np.random.randint(self.action_size)\n",
    "        else:\n",
    "            return np.argmax(q_values)\n",
    "\n",
    "\n",
    "\n",
    "    def train(self, state_val, action_val, reward, next_state_val, continues):\n",
    "        next_q_values = self.target_q_values.eval(feed_dict={self.X_state : np.array([next_state_val])})\n",
    "        max_next_q_values = np.max(next_q_values , axis = 1, keepdims= True)\n",
    "        #We can now compute the target value\n",
    "        y_val = reward + continues * self.discount_rate *max_next_q_values\n",
    "        _ , self.loss_val = self.sess.run([self.training_op, self.loss],\n",
    "                                          feed_dict= {self.X_state: np.array([state_val]),\n",
    "                                                      self.X_action: np.array([action_val]),\n",
    "                                                      self.y : y_val})"
   ]
  },
  {
   "cell_type": "markdown",
   "metadata": {},
   "source": [
    "### Train Model for 1,000,000 Training Steps"
   ]
  },
  {
   "cell_type": "code",
   "execution_count": null,
   "metadata": {
    "pycharm": {
     "is_executing": true,
     "name": "#%%\n"
    }
   },
   "outputs": [
    {
     "name": "stdout",
     "output_type": "stream",
     "text": [
      "WARNING:tensorflow:From <ipython-input-7-28c285c7b057>:6: conv2d (from tensorflow.python.keras.legacy_tf_layers.convolutional) is deprecated and will be removed in a future version.\n",
      "Instructions for updating:\n",
      "Use `tf.keras.layers.Conv2D` instead.\n",
      "WARNING:tensorflow:From C:\\Users\\Faizan\\anaconda3\\lib\\site-packages\\tensorflow\\python\\keras\\legacy_tf_layers\\convolutional.py:424: Layer.apply (from tensorflow.python.keras.engine.base_layer_v1) is deprecated and will be removed in a future version.\n",
      "Instructions for updating:\n",
      "Please use `layer.__call__` method instead.\n",
      "WARNING:tensorflow:From <ipython-input-7-28c285c7b057>:19: dense (from tensorflow.python.keras.legacy_tf_layers.core) is deprecated and will be removed in a future version.\n",
      "Instructions for updating:\n",
      "Use keras.layers.Dense instead.\n",
      "INFO:tensorflow:Restoring parameters from ./my_dqn_assault.ckpt\n",
      "\t Training step 184639/1000000 (18.5)% \t Loss0.0012951"
     ]
    }
   ],
   "source": [
    "agent = QLearningAgent(env)\n",
    "\n",
    "\n",
    "n_steps = 1000000\n",
    "copy_steps = 5000\n",
    "save_steps = 1000\n",
    "\n",
    "with agent.sess:\n",
    "\n",
    "    state = preprocess_observation(env.reset())\n",
    "\n",
    "    while True:\n",
    "        step = agent.global_step.eval()\n",
    "        if step >= n_steps:\n",
    "            break\n",
    "\n",
    "\n",
    "        print(\"\\r\\t Training step {}/{} ({:.1f})% \\t Loss{:5f}\".format(step,n_steps,step*100/ n_steps,agent.loss_val), end=\"\")\n",
    "\n",
    "        if done:\n",
    "            obs = env.reset()\n",
    "            state = preprocess_observation(obs)\n",
    "\n",
    "        q_values = agent.online_q_values.eval(feed_dict={\n",
    "            agent.X_state : [state]})\n",
    "        action = agent.get_action(q_values,step)\n",
    "\n",
    "        #We play the action from the agent\n",
    "        next_obs, reward, done, info = env.step(action)\n",
    "        next_state = preprocess_observation(next_obs)\n",
    "        agent.train(state, action, reward, next_state, 1.0 - done)\n",
    "\n",
    "        env.render()\n",
    "\n",
    "        state = next_state\n",
    "\n",
    "        if step % copy_steps ==0:\n",
    "            agent.copy_online_to_target.run()\n",
    "\n",
    "        if step % save_steps ==0:\n",
    "            agent.saver.save(agent.sess, agent.checkpoint_path)"
   ]
  },
  {
   "cell_type": "markdown",
   "metadata": {
    "id": "fyxQuhsvMG0p"
   },
   "source": [
    "# Reinforcement Learning with RAM"
   ]
  },
  {
   "cell_type": "code",
   "execution_count": null,
   "metadata": {
    "id": "9sFk9WrTMb7z"
   },
   "outputs": [],
   "source": []
  },
  {
   "cell_type": "markdown",
   "metadata": {
    "id": "KJmMkfh8McdN"
   },
   "source": [
    "# Reinforcement Learning by Mixing Screen and RAM"
   ]
  },
  {
   "cell_type": "code",
   "execution_count": null,
   "metadata": {
    "id": "a7X1Em8i9znR",
    "pycharm": {
     "is_executing": true,
     "name": "#%%\n"
    }
   },
   "outputs": [],
   "source": []
  }
 ],
 "metadata": {
  "accelerator": "GPU",
  "colab": {
   "collapsed_sections": [],
   "name": "CS4049_Assignment2.ipynb",
   "provenance": []
  },
  "kernelspec": {
   "display_name": "Python 3",
   "language": "python",
   "name": "python3"
  },
  "language_info": {
   "codemirror_mode": {
    "name": "ipython",
    "version": 3
   },
   "file_extension": ".py",
   "mimetype": "text/x-python",
   "name": "python",
   "nbconvert_exporter": "python",
   "pygments_lexer": "ipython3",
   "version": "3.8.8"
  }
 },
 "nbformat": 4,
 "nbformat_minor": 1
}
