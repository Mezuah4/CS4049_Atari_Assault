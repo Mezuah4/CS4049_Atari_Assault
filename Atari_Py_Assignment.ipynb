{
 "nbformat": 4,
 "nbformat_minor": 0,
 "metadata": {
  "accelerator": "GPU",
  "colab": {
   "name": "Atari_Py_Assignment.ipynb",
   "provenance": [],
   "collapsed_sections": []
  },
  "kernelspec": {
   "display_name": "Python 3",
   "name": "python3"
  },
  "language_info": {
   "name": "python"
  }
 },
 "cells": [
  {
   "cell_type": "code",
   "metadata": {
    "id": "QQ188S6Up1BV"
   },
   "source": [
    "# Install Libraries & Roms\n",
    "# !apt update && apt install -y libpq-dev libsdl2-dev swig xorg-dev xvfb\n",
    "# %pip install -U tf-agents pyvirtualdisplay\n",
    "# %pip install -U gym>=0.21.0\n",
    "# %pip install -U gym[box2d,atari,accept-rom-license]"
   ],
   "execution_count": 1,
   "outputs": []
  },
  {
   "cell_type": "code",
   "metadata": {
    "colab": {
     "base_uri": "https://localhost:8080/"
    },
    "id": "WwmhoyY5YFhG",
    "outputId": "7a66be0a-3feb-48d2-fe94-6e750ec29659"
   },
   "source": [
    "# Mount Google Drive\n",
    "from google.colab import drive\n",
    "drive.mount('/content/drive')"
   ],
   "execution_count": 2,
   "outputs": [
    {
     "output_type": "stream",
     "name": "stdout",
     "text": [
      "Drive already mounted at /content/drive; to attempt to forcibly remount, call drive.mount(\"/content/drive\", force_remount=True).\n"
     ]
    }
   ]
  },
  {
   "cell_type": "code",
   "metadata": {
    "id": "JovXFwt8rhDO",
    "colab": {
     "base_uri": "https://localhost:8080/"
    },
    "outputId": "b3409d9a-67ee-4317-89d7-ef7b98927ab2"
   },
   "source": [
    "# Import Libraries\n",
    "\n",
    "# Tensor Flow\n",
    "import tensorflow as tf\n",
    "from tensorflow import keras\n",
    "assert tf.__version__ >= \"2.0\"\n",
    "\n",
    "# Common\n",
    "import numpy as np\n",
    "import os\n",
    "import random\n",
    "\n",
    "# Gym\n",
    "import gym\n",
    "\n",
    "# Visualise\n",
    "import pyvirtualdisplay\n",
    "\n",
    "# To plot pretty figures\n",
    "%matplotlib inline\n",
    "import matplotlib as mpl\n",
    "import matplotlib.pyplot as plt\n",
    "mpl.rc('axes', labelsize=14)\n",
    "mpl.rc('xtick', labelsize=12)\n",
    "mpl.rc('ytick', labelsize=12)\n",
    "\n",
    "# To get smooth animations\n",
    "import matplotlib.animation as animation\n",
    "mpl.rc('animation', html='jshtml')\n",
    "\n",
    "# Where to save the figures\n",
    "PROJECT_ROOT_DIR = \"./gdrive/MyDrive/ML\"\n",
    "CHAPTER_ID = \"rl\"\n",
    "IMAGES_PATH = os.path.join(PROJECT_ROOT_DIR, \"images\", CHAPTER_ID)\n",
    "os.makedirs(IMAGES_PATH, exist_ok=True)\n",
    "\n",
    "def save_fig(fig_id, tight_layout=True, fig_extension=\"png\", resolution=300):\n",
    "    path = os.path.join(IMAGES_PATH, fig_id + \".\" + fig_extension)\n",
    "    print(\"Saving figure\", fig_id)\n",
    "    if tight_layout:\n",
    "        plt.tight_layout()\n",
    "    plt.savefig(path, format=fig_extension, dpi=resolution)"
   ],
   "execution_count": 3,
   "outputs": [
    {
     "output_type": "stream",
     "name": "stderr",
     "text": [
      "/usr/local/lib/python3.7/dist-packages/ale_py/roms/utils.py:90: DeprecationWarning: SelectableGroups dict interface is deprecated. Use select.\n",
      "  for external in metadata.entry_points().get(self.group, []):\n"
     ]
    }
   ]
  },
  {
   "cell_type": "code",
   "metadata": {
    "colab": {
     "base_uri": "https://localhost:8080/"
    },
    "id": "nnFKPjThF_LY",
    "outputId": "f4bba766-bde0-43c2-8303-a063a72116a9"
   },
   "source": [
    "sess = tf.compat.v1.Session(config=tf.compat.v1.ConfigProto(log_device_placement=True))"
   ],
   "execution_count": 4,
   "outputs": [
    {
     "output_type": "stream",
     "name": "stdout",
     "text": [
      "Device mapping: no known devices.\n"
     ]
    }
   ]
  },
  {
   "cell_type": "markdown",
   "metadata": {
    "id": "LavcsM5Wuwht"
   },
   "source": [
    "## Task 1.1 Create Environment"
   ]
  },
  {
   "cell_type": "code",
   "metadata": {
    "colab": {
     "base_uri": "https://localhost:8080/"
    },
    "id": "zPIguDCzt0jq",
    "outputId": "b0a81018-f5f4-403e-9a20-dc90b2d06cb9"
   },
   "source": [
    "env = gym.make(\"Assault-v4\")\n",
    "height, width, channels = env.observation_space.shape\n",
    "\n",
    "# print(\"Action space: \", env.action_space)\n",
    "# print(\"Observation space: \", env.observation_space)\n",
    "\n",
    "env.reset()\n",
    "next_obs, reward, done, info = env.step(0)\n",
    "env.unwrapped.get_action_meanings()"
   ],
   "execution_count": 5,
   "outputs": [
    {
     "output_type": "execute_result",
     "data": {
      "text/plain": [
       "['NOOP', 'FIRE', 'UP', 'RIGHT', 'LEFT', 'RIGHTFIRE', 'LEFTFIRE']"
      ]
     },
     "metadata": {},
     "execution_count": 5
    }
   ]
  },
  {
   "cell_type": "markdown",
   "metadata": {
    "id": "pWNNm5Tlu9EB"
   },
   "source": [
    "## Task 1.3: Pre-Processing"
   ]
  },
  {
   "cell_type": "code",
   "metadata": {
    "colab": {
     "base_uri": "https://localhost:8080/",
     "height": 545
    },
    "id": "bFg5J6eYuv2s",
    "outputId": "27e18750-ab65-48ad-a3f0-17726755e3fd"
   },
   "source": [
    "obs = env.reset()\n",
    "\n",
    "def preprocess_observation(observation):\n",
    "\n",
    "    # Slice Top Off\n",
    "    img = observation[14:210:2, ::2]\n",
    "\n",
    "    # Grey Scale\n",
    "    img = img.mean(axis=2)\n",
    "    img = (img - 128).astype(np.int8)\n",
    "\n",
    "    return img.reshape(98, 80, 1)\n",
    "\n",
    "plt.imshow(obs)\n",
    "plt.show()\n",
    "plt.imshow(preprocess_observation(obs).reshape(98, 80), cmap=\"gray\", vmin=-128, vmax=127)"
   ],
   "execution_count": 6,
   "outputs": [
    {
     "output_type": "display_data",
     "data": {
      "image/png": "[encoded data removed]",
      "text/plain": [
       "<Figure size 432x288 with 1 Axes>"
      ]
     },
     "metadata": {
      "needs_background": "light"
     }
    },
    {
     "output_type": "execute_result",
     "data": {
      "text/plain": [
       "<matplotlib.image.AxesImage at 0x7f08e44f0190>"
      ]
     },
     "metadata": {},
     "execution_count": 6
    },
    {
     "output_type": "display_data",
     "data": {
      "image/png": "[encoded data removed]",
      "text/plain": [
       "<Figure size 432x288 with 1 Axes>"
      ]
     },
     "metadata": {
      "needs_background": "light"
     }
    }
   ]
  },
  {
   "cell_type": "markdown",
   "metadata": {
    "id": "SB3HLbGNxkLg"
   },
   "source": [
    "## Task 1.4: Implement Deep Convolutional Network"
   ]
  },
  {
   "cell_type": "code",
   "metadata": {
    "id": "80MMt5-GxjVL"
   },
   "source": [
    "def q_network(X_state, name):\n",
    "    prev_layer = X_state / 128 #the values will be between [-1, 1]\n",
    "    initializer = tf.compat.v1.variance_scaling_initializer()\n",
    "    hidden_activation = tf.nn.relu\n",
    "    with tf.compat.v1.variable_scope(name) as scope:\n",
    "        prev_layer = tf.compat.v1.layers.conv2d(prev_layer, filters=32,\n",
    "                                      kernel_size = 8, strides = 4,\n",
    "                                      padding=\"SAME\", activation= hidden_activation,\n",
    "                                      kernel_initializer = initializer)\n",
    "        prev_layer = tf.compat.v1.layers.conv2d(prev_layer, filters=64,\n",
    "                                      kernel_size = 4, strides = 2,\n",
    "                                      padding=\"SAME\", activation= hidden_activation,\n",
    "                                      kernel_initializer = initializer)\n",
    "        prev_layer = tf.compat.v1.layers.conv2d(prev_layer, filters=64,\n",
    "                                      kernel_size = 3, strides = 1,\n",
    "                                      padding=\"SAME\", activation= hidden_activation,\n",
    "                                      kernel_initializer = initializer)\n",
    "        last_conv_layer_flat = tf.reshape(prev_layer, shape= [-1, 8320])\n",
    "        hidden = tf.compat.v1.layers.dense(last_conv_layer_flat, 512, activation = hidden_activation, kernel_initializer = initializer)\n",
    "        hidden = tf.compat.v1.layers.dense(hidden, 256, activation=hidden_activation, kernel_initializer = initializer)\n",
    "        hidden = tf.compat.v1.layers.dense(hidden, 128, activation=hidden_activation, kernel_initializer = initializer)\n",
    "        outputs = tf.compat.v1.layers.dense(hidden, env.action_space.n, kernel_initializer = initializer)\n",
    "    trainable_vars = tf.compat.v1.get_collection(tf.compat.v1.GraphKeys.TRAINABLE_VARIABLES, scope = scope.name)\n",
    "    trainable_vars_by_name = { var.name[len(scope.name):] : var for var in trainable_vars}\n",
    "    return outputs, trainable_vars_by_name"
   ],
   "execution_count": 7,
   "outputs": []
  },
  {
   "cell_type": "code",
   "metadata": {
    "id": "PgkmRxeFzLDf"
   },
   "source": [
    "class QLearningAgent():\n",
    "    def __init__(self, env, learning_rate = 0.001, momemtum = 0.95):\n",
    "        self.action_size = env.action_space.n\n",
    "        self.loss_val = np.infty\n",
    "        tf.compat.v1.reset_default_graph()\n",
    "        tf.compat.v1.disable_eager_execution()\n",
    "\n",
    "        self.discount_rate = 0.99\n",
    "\n",
    "        self.checkpoint_path = \"./drive/MyDrive/ML/ScreenTestWithGraph/my_dqn_assault.ckpt\"\n",
    "\n",
    "        self.X_state = tf.compat.v1.placeholder(tf.float32, shape= [None, 98, 80, 1])\n",
    "        self.online_q_values, self.online_vars = q_network(self.X_state, name = \"q_networks/online\")\n",
    "        self.target_q_values, self.target_vars = q_network(self.X_state, name = \"q_networks/target\")\n",
    "\n",
    "        #Define the operations to copy the online network to the target network\n",
    "        self.copy_ops = [ target_var.assign(self.online_vars[var_name])\n",
    "                          for var_name, target_var in self.target_vars.items()]\n",
    "        self.copy_online_to_target = tf.group(*self.copy_ops)\n",
    "\n",
    "        # The structure of the training\n",
    "        with tf.compat.v1.variable_scope(\"train\"):\n",
    "            self.X_action = tf.compat.v1.placeholder(tf.int32, shape=[None])\n",
    "            self.y = tf.compat.v1.placeholder(tf.float32, shape=[None, 1])\n",
    "            self.q_value = tf.reduce_sum(self.online_q_values * tf.one_hot(self.X_action, self.action_size),\n",
    "                                         axis=1, keepdims = True)\n",
    "\n",
    "            self.error = tf.abs( self.y - self.q_value) #A value between 0 and infty\n",
    "            self.clipped_error = tf.clip_by_value(self.error, 0.0, 1.0) #If it is above 1 then it becomes 1\n",
    "            self.linear_error = 2 * (self.error - self.clipped_error)\n",
    "            self.loss = tf.reduce_mean(tf.square(self.clipped_error) + self.linear_error)\n",
    "\n",
    "            self.global_step = tf.Variable(0, trainable = False, name = \"global_step\")\n",
    "            self.test_step = tf.Variable(0, trainable = False, name = \"test_step\")\n",
    "            self.optimizer = tf.compat.v1.train.MomentumOptimizer(learning_rate, momentum = momemtum, use_nesterov = True)\n",
    "            self.training_op = self.optimizer.minimize(self.loss, global_step = self.global_step)\n",
    "\n",
    "        # Saving\n",
    "        self.saver = tf.compat.v1.train.Saver()\n",
    "        self.sess = tf.compat.v1.Session()\n",
    "        if os.path.isfile(self.checkpoint_path + \".index\"):\n",
    "            self.saver.restore(self.sess, self.checkpoint_path)\n",
    "        else:\n",
    "            self.sess.run(tf.compat.v1.global_variables_initializer())\n",
    "            self.sess.run(self.copy_online_to_target)\n",
    "\n",
    "        self.testsess = tf.compat.v1.Session()\n",
    "\n",
    "    def get_action(self, q_values, step):\n",
    "        epsilon = max(0.1, 1 - (0.9/2000000) * step)\n",
    "        if np.random.rand() < epsilon:\n",
    "            return np.random.randint(self.action_size)\n",
    "        else:\n",
    "            return np.argmax(q_values)\n",
    "\n",
    "\n",
    "\n",
    "    def train(self, state_val, action_val, reward, next_state_val, continues):\n",
    "        next_q_values = self.target_q_values.eval(feed_dict={self.X_state : np.array([next_state_val])})\n",
    "        max_next_q_values = np.max(next_q_values , axis = 1, keepdims= True)\n",
    "        #We can now compute the target value\n",
    "        y_val = reward + continues * self.discount_rate *max_next_q_values\n",
    "        _ , self.loss_val = self.sess.run([self.training_op, self.loss],\n",
    "                                          feed_dict= {self.X_state: np.array([state_val]),\n",
    "                                                      self.X_action: np.array([action_val]),\n",
    "                                                      self.y : y_val})"
   ],
   "execution_count": 8,
   "outputs": []
  },
  {
   "cell_type": "code",
   "metadata": {
    "id": "ZSS9JRhgSYFx"
   },
   "source": [
    "# Animation Helpers\n",
    "def update_scene(num, frames, patch):\n",
    "    patch.set_data(frames[num])\n",
    "    return patch,\n",
    "\n",
    "def plot_animation(frames, repeat=False, interval=40):\n",
    "    fig = plt.figure()\n",
    "    patch = plt.imshow(frames[0])\n",
    "    plt.axis('off')\n",
    "    anim = animation.FuncAnimation(\n",
    "        fig, update_scene, fargs=(frames, patch),\n",
    "        frames=len(frames), repeat=repeat, interval=interval)\n",
    "    plt.close()\n",
    "    return anim\n",
    "\n",
    "# Agent Evaluation\n",
    "def evaluate_agent(agent, episodes):\n",
    "\n",
    "    frames = []\n",
    "    rewards = []\n",
    "    s= 0\n",
    "    \n",
    "    with agent.sess:\n",
    "\n",
    "        state = preprocess_observation(env.reset())\n",
    "        \n",
    "        episode = 0\n",
    "\n",
    "        for i in range(episodes):\n",
    "\n",
    "            rewards.append(0)\n",
    "\n",
    "            while True:\n",
    "\n",
    "                img = env.render(mode=\"rgb_array\")\n",
    "                frames.append(img)\n",
    "\n",
    "                q_values = agent.online_q_values.eval(feed_dict={agent.X_state : [state]})\n",
    "                action = agent.get_action(q_values, step)\n",
    "\n",
    "                obs, reward, done, info = env.step(action)\n",
    "                rewards[i] += reward\n",
    "\n",
    "                state = preprocess_observation(obs)\n",
    "                \n",
    "                if done:\n",
    "                    print(\"Episode {} Total Reward: {}\".format(i + 1, rewards[i]))\n",
    "                    state = preprocess_observation(env.reset())\n",
    "                    break\n",
    "      \n",
    "    return frames, rewards"
   ],
   "execution_count": 9,
   "outputs": []
  },
  {
   "cell_type": "markdown",
   "metadata": {
    "id": "4Rth07SlAUHe"
   },
   "source": [
    "Requirements when running this:\n",
    "1.   Have the file path drive/MyDrive/ML\n",
    "2.   Make sure your happy with the testInterval and testEpisodes values"
   ]
  },
  {
   "cell_type": "code",
   "metadata": {
    "id": "3cWsDaLFrnlJ"
   },
   "source": [
    "# Plotting means gathered in previous step\n",
    "def plotRewardGraph(rewards, testingIntervals, totalSteps):\n",
    "    l = len(rewards)\n",
    "    x_vals = [x for x in range(totalSteps + 1) if x % testingIntervals == 0]\n",
    "    assert l == len(x_vals)\n",
    "\n",
    "    fig = plt.figure(figsize=(8, 6))\n",
    "    ax = plt.subplot()\n",
    "\n",
    "    ax.plot(rewards, 'bo-', label=\"Mean Test Score\", color=\"red\", alpha=0.6, linewidth=3)\n",
    "    plt.xticks(range(0, len(x_vals)), x_vals)\n",
    "    ax.locator_params(axis='x', nbins=len(x_vals))\n",
    "    plt.xlabel('Steps Trained'); plt.ylabel(r'Average Testing Score')\n",
    "    plt.title(r'Average Time Taken for Ascending Input Size')\n",
    "\n",
    "    plt.savefig(\"./drive/MyDrive/ML/{}_Plot.pdf\".format('Average_Testing_Score'), dpi=500)\n",
    "    plt.show()"
   ],
   "execution_count": 13,
   "outputs": []
  },
  {
   "cell_type": "code",
   "metadata": {
    "id": "f7lHTYVGxtUO"
   },
   "source": [
    "# Train Agent\n",
    "agent = QLearningAgent(env)\n",
    "\n",
    "n_steps = 1000000\n",
    "copy_steps = 5000\n",
    "save_steps = 100\n",
    "\n",
    "with agent.sess:\n",
    "\n",
    "    state = preprocess_observation(env.reset())\n",
    "\n",
    "\n",
    "    while True:\n",
    "        step = agent.global_step.eval()\n",
    "        if step >= n_steps:\n",
    "            break\n",
    "\n",
    "\n",
    "        print(\"\\r\\t Training step {}/{} ({:.1f})% \\t Loss{:5f}\".format(step,n_steps,step*100/ n_steps,agent.loss_val), end=\"\")\n",
    "\n",
    "        if done:\n",
    "            obs = env.reset()\n",
    "            state = preprocess_observation(obs)\n",
    "\n",
    "        q_values = agent.online_q_values.eval(feed_dict={agent.X_state : [state]})\n",
    "        action = agent.get_action(q_values,step)\n",
    "\n",
    "        #We play the action from the agent\n",
    "        next_obs, reward, done, info = env.step(action)\n",
    "        next_state = preprocess_observation(next_obs)\n",
    "        agent.train(state, action, reward, next_state, 1.0 - done)\n",
    "\n",
    "        env.render(mode=\"rgb\")\n",
    "\n",
    "        state = next_state\n",
    "\n",
    "        if step % copy_steps ==0:\n",
    "            agent.copy_online_to_target.run()\n",
    "\n",
    "        if step % save_steps ==0:\n",
    "            agent.saver.save(agent.sess, agent.checkpoint_path)"
   ],
   "execution_count": null,
   "outputs": []
  },
  {
   "cell_type": "markdown",
   "metadata": {
    "id": "jHFytHk3rj9F"
   },
   "source": [
    "## Testing"
   ]
  },
  {
   "cell_type": "code",
   "metadata": {
    "id": "CTBUB_BfMGRI"
   },
   "source": [
    "env.reset()\n",
    "agent = QLearningAgent(env)\n",
    "\n",
    "frames, rewards = evaluate_agent(agent, 1)\n",
    "print(\"Mean Reward: \", np.mean(rewards))\n",
    "\n",
    "plot_animation(frames)"
   ],
   "execution_count": null,
   "outputs": []
  }
 ]
}